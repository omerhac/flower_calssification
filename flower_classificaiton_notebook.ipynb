{
  "nbformat": 4,
  "nbformat_minor": 0,
  "metadata": {
    "colab": {
      "name": "flower_classificaiton_notebook.ipynb",
      "provenance": [],
      "collapsed_sections": [],
      "include_colab_link": true
    },
    "kernelspec": {
      "name": "python3",
      "display_name": "Python 3"
    },
    "accelerator": "TPU"
  },
  "cells": [
    {
      "cell_type": "markdown",
      "metadata": {
        "id": "view-in-github",
        "colab_type": "text"
      },
      "source": [
        "<a href=\"https://colab.research.google.com/github/omerhac/flower_calssification/blob/master/flower_classificaiton_notebook.ipynb\" target=\"_parent\"><img src=\"https://colab.research.google.com/assets/colab-badge.svg\" alt=\"Open In Colab\"/></a>"
      ]
    },
    {
      "cell_type": "code",
      "metadata": {
        "id": "USMM_qfjDu8-",
        "colab_type": "code",
        "outputId": "685943b5-59c3-41f6-9f17-71b76a0e5999",
        "colab": {
          "base_uri": "https://localhost:8080/",
          "height": 35
        }
      },
      "source": [
        "import pandas as pd\n",
        "from tensorflow import keras\n",
        "from matplotlib import pyplot as plt\n",
        "import math, os, sys, re\n",
        "import numpy as np\n",
        "import tensorflow as tf\n",
        "if 'google.colab' in sys.modules: # Colab-only Tensorflow version selector\n",
        "  %tensorflow_version 2.x\n",
        "print(\"tf version: \" + tf.__version__)\n",
        "AUTO = tf.data.experimental.AUTOTUNE"
      ],
      "execution_count": 1,
      "outputs": [
        {
          "output_type": "stream",
          "text": [
            "tf version: 2.2.0-rc3\n"
          ],
          "name": "stdout"
        }
      ]
    },
    {
      "cell_type": "markdown",
      "metadata": {
        "id": "Hn3EgdyMHxAG",
        "colab_type": "text"
      },
      "source": [
        "# Hardware detection\n"
      ]
    },
    {
      "cell_type": "code",
      "metadata": {
        "id": "M0A8eT_2Ew9l",
        "colab_type": "code",
        "outputId": "77e0f9f0-1999-4d84-cad4-7d1e10fc979f",
        "colab": {
          "base_uri": "https://localhost:8080/",
          "height": 773
        }
      },
      "source": [
        "# Detect hardware\n",
        "try:\n",
        "  tpu = tf.distribute.cluster_resolver.TPUClusterResolver() # TPU detection\n",
        "except ValueError:\n",
        "  tpu = None\n",
        "  gpus = tf.config.experimental.list_logical_devices(\"GPU\")\n",
        "    \n",
        "# Select appropriate distribution strategy for hardware\n",
        "if tpu:\n",
        "  tf.config.experimental_connect_to_cluster(tpu)\n",
        "  tf.tpu.experimental.initialize_tpu_system(tpu)\n",
        "  strategy = tf.distribute.experimental.TPUStrategy(tpu)\n",
        "  print('Running on TPU ', tpu.master())  \n",
        "elif len(gpus) > 0:\n",
        "  strategy = tf.distribute.MirroredStrategy(gpus) # this works for 1 to multiple GPUs\n",
        "  print('Running on ', len(gpus), ' GPU(s) ')\n",
        "else:\n",
        "  strategy = tf.distribute.get_strategy() # default strategy that works on CPU and single GPU\n",
        "  print('Running on CPU')\n",
        "\n",
        "# How many accelerators do we have ?\n",
        "print(\"Number of accelerators: \", strategy.num_replicas_in_sync)\n"
      ],
      "execution_count": 2,
      "outputs": [
        {
          "output_type": "stream",
          "text": [
            "INFO:tensorflow:Initializing the TPU system: grpc://10.22.64.162:8470\n"
          ],
          "name": "stdout"
        },
        {
          "output_type": "stream",
          "text": [
            "INFO:tensorflow:Initializing the TPU system: grpc://10.22.64.162:8470\n"
          ],
          "name": "stderr"
        },
        {
          "output_type": "stream",
          "text": [
            "INFO:tensorflow:Clearing out eager caches\n"
          ],
          "name": "stdout"
        },
        {
          "output_type": "stream",
          "text": [
            "INFO:tensorflow:Clearing out eager caches\n"
          ],
          "name": "stderr"
        },
        {
          "output_type": "stream",
          "text": [
            "INFO:tensorflow:Finished initializing TPU system.\n"
          ],
          "name": "stdout"
        },
        {
          "output_type": "stream",
          "text": [
            "INFO:tensorflow:Finished initializing TPU system.\n"
          ],
          "name": "stderr"
        },
        {
          "output_type": "stream",
          "text": [
            "INFO:tensorflow:Found TPU system:\n"
          ],
          "name": "stdout"
        },
        {
          "output_type": "stream",
          "text": [
            "INFO:tensorflow:Found TPU system:\n"
          ],
          "name": "stderr"
        },
        {
          "output_type": "stream",
          "text": [
            "INFO:tensorflow:*** Num TPU Cores: 8\n"
          ],
          "name": "stdout"
        },
        {
          "output_type": "stream",
          "text": [
            "INFO:tensorflow:*** Num TPU Cores: 8\n"
          ],
          "name": "stderr"
        },
        {
          "output_type": "stream",
          "text": [
            "INFO:tensorflow:*** Num TPU Workers: 1\n"
          ],
          "name": "stdout"
        },
        {
          "output_type": "stream",
          "text": [
            "INFO:tensorflow:*** Num TPU Workers: 1\n"
          ],
          "name": "stderr"
        },
        {
          "output_type": "stream",
          "text": [
            "INFO:tensorflow:*** Num TPU Cores Per Worker: 8\n"
          ],
          "name": "stdout"
        },
        {
          "output_type": "stream",
          "text": [
            "INFO:tensorflow:*** Num TPU Cores Per Worker: 8\n"
          ],
          "name": "stderr"
        },
        {
          "output_type": "stream",
          "text": [
            "INFO:tensorflow:*** Available Device: _DeviceAttributes(/job:localhost/replica:0/task:0/device:CPU:0, CPU, 0, 0)\n"
          ],
          "name": "stdout"
        },
        {
          "output_type": "stream",
          "text": [
            "INFO:tensorflow:*** Available Device: _DeviceAttributes(/job:localhost/replica:0/task:0/device:CPU:0, CPU, 0, 0)\n"
          ],
          "name": "stderr"
        },
        {
          "output_type": "stream",
          "text": [
            "INFO:tensorflow:*** Available Device: _DeviceAttributes(/job:localhost/replica:0/task:0/device:XLA_CPU:0, XLA_CPU, 0, 0)\n"
          ],
          "name": "stdout"
        },
        {
          "output_type": "stream",
          "text": [
            "INFO:tensorflow:*** Available Device: _DeviceAttributes(/job:localhost/replica:0/task:0/device:XLA_CPU:0, XLA_CPU, 0, 0)\n"
          ],
          "name": "stderr"
        },
        {
          "output_type": "stream",
          "text": [
            "INFO:tensorflow:*** Available Device: _DeviceAttributes(/job:worker/replica:0/task:0/device:CPU:0, CPU, 0, 0)\n"
          ],
          "name": "stdout"
        },
        {
          "output_type": "stream",
          "text": [
            "INFO:tensorflow:*** Available Device: _DeviceAttributes(/job:worker/replica:0/task:0/device:CPU:0, CPU, 0, 0)\n"
          ],
          "name": "stderr"
        },
        {
          "output_type": "stream",
          "text": [
            "INFO:tensorflow:*** Available Device: _DeviceAttributes(/job:worker/replica:0/task:0/device:TPU:0, TPU, 0, 0)\n"
          ],
          "name": "stdout"
        },
        {
          "output_type": "stream",
          "text": [
            "INFO:tensorflow:*** Available Device: _DeviceAttributes(/job:worker/replica:0/task:0/device:TPU:0, TPU, 0, 0)\n"
          ],
          "name": "stderr"
        },
        {
          "output_type": "stream",
          "text": [
            "INFO:tensorflow:*** Available Device: _DeviceAttributes(/job:worker/replica:0/task:0/device:TPU:1, TPU, 0, 0)\n"
          ],
          "name": "stdout"
        },
        {
          "output_type": "stream",
          "text": [
            "INFO:tensorflow:*** Available Device: _DeviceAttributes(/job:worker/replica:0/task:0/device:TPU:1, TPU, 0, 0)\n"
          ],
          "name": "stderr"
        },
        {
          "output_type": "stream",
          "text": [
            "INFO:tensorflow:*** Available Device: _DeviceAttributes(/job:worker/replica:0/task:0/device:TPU:2, TPU, 0, 0)\n"
          ],
          "name": "stdout"
        },
        {
          "output_type": "stream",
          "text": [
            "INFO:tensorflow:*** Available Device: _DeviceAttributes(/job:worker/replica:0/task:0/device:TPU:2, TPU, 0, 0)\n"
          ],
          "name": "stderr"
        },
        {
          "output_type": "stream",
          "text": [
            "INFO:tensorflow:*** Available Device: _DeviceAttributes(/job:worker/replica:0/task:0/device:TPU:3, TPU, 0, 0)\n"
          ],
          "name": "stdout"
        },
        {
          "output_type": "stream",
          "text": [
            "INFO:tensorflow:*** Available Device: _DeviceAttributes(/job:worker/replica:0/task:0/device:TPU:3, TPU, 0, 0)\n"
          ],
          "name": "stderr"
        },
        {
          "output_type": "stream",
          "text": [
            "INFO:tensorflow:*** Available Device: _DeviceAttributes(/job:worker/replica:0/task:0/device:TPU:4, TPU, 0, 0)\n"
          ],
          "name": "stdout"
        },
        {
          "output_type": "stream",
          "text": [
            "INFO:tensorflow:*** Available Device: _DeviceAttributes(/job:worker/replica:0/task:0/device:TPU:4, TPU, 0, 0)\n"
          ],
          "name": "stderr"
        },
        {
          "output_type": "stream",
          "text": [
            "INFO:tensorflow:*** Available Device: _DeviceAttributes(/job:worker/replica:0/task:0/device:TPU:5, TPU, 0, 0)\n"
          ],
          "name": "stdout"
        },
        {
          "output_type": "stream",
          "text": [
            "INFO:tensorflow:*** Available Device: _DeviceAttributes(/job:worker/replica:0/task:0/device:TPU:5, TPU, 0, 0)\n"
          ],
          "name": "stderr"
        },
        {
          "output_type": "stream",
          "text": [
            "INFO:tensorflow:*** Available Device: _DeviceAttributes(/job:worker/replica:0/task:0/device:TPU:6, TPU, 0, 0)\n"
          ],
          "name": "stdout"
        },
        {
          "output_type": "stream",
          "text": [
            "INFO:tensorflow:*** Available Device: _DeviceAttributes(/job:worker/replica:0/task:0/device:TPU:6, TPU, 0, 0)\n"
          ],
          "name": "stderr"
        },
        {
          "output_type": "stream",
          "text": [
            "INFO:tensorflow:*** Available Device: _DeviceAttributes(/job:worker/replica:0/task:0/device:TPU:7, TPU, 0, 0)\n"
          ],
          "name": "stdout"
        },
        {
          "output_type": "stream",
          "text": [
            "INFO:tensorflow:*** Available Device: _DeviceAttributes(/job:worker/replica:0/task:0/device:TPU:7, TPU, 0, 0)\n"
          ],
          "name": "stderr"
        },
        {
          "output_type": "stream",
          "text": [
            "INFO:tensorflow:*** Available Device: _DeviceAttributes(/job:worker/replica:0/task:0/device:TPU_SYSTEM:0, TPU_SYSTEM, 0, 0)\n"
          ],
          "name": "stdout"
        },
        {
          "output_type": "stream",
          "text": [
            "INFO:tensorflow:*** Available Device: _DeviceAttributes(/job:worker/replica:0/task:0/device:TPU_SYSTEM:0, TPU_SYSTEM, 0, 0)\n"
          ],
          "name": "stderr"
        },
        {
          "output_type": "stream",
          "text": [
            "INFO:tensorflow:*** Available Device: _DeviceAttributes(/job:worker/replica:0/task:0/device:XLA_CPU:0, XLA_CPU, 0, 0)\n"
          ],
          "name": "stdout"
        },
        {
          "output_type": "stream",
          "text": [
            "INFO:tensorflow:*** Available Device: _DeviceAttributes(/job:worker/replica:0/task:0/device:XLA_CPU:0, XLA_CPU, 0, 0)\n"
          ],
          "name": "stderr"
        },
        {
          "output_type": "stream",
          "text": [
            "Running on TPU  grpc://10.22.64.162:8470\n",
            "Number of accelerators:  8\n"
          ],
          "name": "stdout"
        }
      ]
    },
    {
      "cell_type": "markdown",
      "metadata": {
        "id": "0qdxH0sFg0O4",
        "colab_type": "text"
      },
      "source": [
        "## Utilities"
      ]
    },
    {
      "cell_type": "code",
      "metadata": {
        "id": "HX6iy3LZdNM6",
        "colab_type": "code",
        "colab": {}
      },
      "source": [
        "def get_numpy_batch(dataset, n_samples):\n",
        "  \"\"\"get numpy array of n samples\"\"\"\n",
        "  dataset = dataset.shuffle(buffer_size=10)\n",
        "  batched = dataset.batch(n_samples)\n",
        "  for images, labels in batched:\n",
        "    return images.numpy(), labels.numpy()\n",
        "\n",
        "def show_n_samples(dataset, n):\n",
        "  \"\"\"prints n images and labels\"\"\"\n",
        "  plt.figure(figsize = (2 * n, 2 *n))\n",
        "\n",
        "  rows = math.ceil(n / 3)\n",
        "\n",
        "  batch_images, batch_labels = get_numpy_batch(dataset, n)\n",
        "\n",
        "  for i, image in enumerate(batch_images):\n",
        "    plt.subplot(rows, 3, i + 1)\n",
        "    plt.imshow(image)\n",
        "    plt.title(CLASSES[batch_labels[i]])\n",
        "  \n",
        "  plt.show()\n",
        "\n",
        "def count_data_items(filenames):\n",
        "    # the number of data items is written in the name of the .tfrec files, i.e. flowers00-230.tfrec = 230 data items\n",
        "    n = [int(re.compile(r\"-([0-9]*)\\.\").search(filename).group(1)) for filename in filenames]\n",
        "    return np.sum(n)\n",
        "\n",
        "def count_dataset_items(dataset):\n",
        "  # counts items iterativly in the data set. requaiers some time...\n",
        "  count = 0\n",
        "  for obj in dataset:\n",
        "    count += 1\n",
        "  \n",
        "  return count\n",
        "\n",
        "def display_training_curves(hist, metric='accuracy', with_val=False):\n",
        "  \"\"\"display learning curves for keras history dict, args: history dict, with val --> boolean with/without val\"\"\"\n",
        "  plt.figure(figsize=(18,6))\n",
        "\n",
        "  # accuracy plots\n",
        "  plt.subplot(1,2,1)\n",
        "  plt.plot(hist[metric])\n",
        "  \n",
        "  if with_val:\n",
        "    plt.plot(hist['val_' + metric])\n",
        "    plt.legend(['Train', 'Validation'])\n",
        "  \n",
        "  else:\n",
        "    plt.legend(['Train'])\n",
        "  \n",
        "  plt.title('Model accuracy')\n",
        "  plt.xlabel('EPOCH')\n",
        "  plt.ylabel('Accuracy')\n",
        "\n",
        "  # loss plots\n",
        "  plt.subplot(1,2,2)\n",
        "  plt.plot(hist['loss'])\n",
        "\n",
        "  if with_val:\n",
        "    plt.plot(hist['val_loss'])\n",
        "    plt.legend(['Train loss', 'Val loss'])\n",
        "  \n",
        "  else:\n",
        "    plt.legend(['Train loss'])\n",
        "  \n",
        "  plt.title('Model loss')\n",
        "  plt.xlabel('EPOCH')\n",
        "  plt.ylabel('Loss')\n",
        "  plt.show()\n",
        "\n",
        "def display_training_curves_without_dict(accuracy, val_accuracy, loss, val_loss):\n",
        "  \"\"\"display learning curves. args: accuracy iterable, val iterable , loss iterable, val_los iterable\"\"\"\n",
        "  keras_dict = {'accuracy': accuracy, 'val_accuracy': val_accuracy, 'loss': loss, 'val_loss': val_loss}\n",
        "  return display_training_curves(keras_dict)\n",
        "\n",
        "  \n",
        "def display_model_predictions(model, dataset):\n",
        "  \"\"\"Displays 9 images and their predictions\"\"\"\n",
        "\n",
        "  batch_images, batch_labels = get_numpy_batch(dataset, 9)\n",
        "  predictions = model.predict(batch_images) # predict images labels\n",
        "  \n",
        "  plt.figure(figsize=(18,18))\n",
        "\n",
        "  for i, image in enumerate(batch_images):\n",
        "    # def plot\n",
        "    plt.subplot(3,3,i + 1)\n",
        "    plt.imshow(image)\n",
        "\n",
        "    # write prediction as titles\n",
        "    pred =np.argmax(predictions[i])\n",
        "    if pred == batch_labels[i]:\n",
        "      plt.title(CLASSES[pred], fontdict={'color':'g'})\n",
        "\n",
        "    else:\n",
        "      plt.title(CLASSES[pred] + \" WRONG --> \" + CLASSES[batch_labels[i]], fontdict={'color': 'r'})\n",
        "    \n",
        "  plt.show()\n",
        "\n"
      ],
      "execution_count": 0,
      "outputs": []
    },
    {
      "cell_type": "markdown",
      "metadata": {
        "id": "cZX-QcX8TRLN",
        "colab_type": "text"
      },
      "source": [
        "# Loading images"
      ]
    },
    {
      "cell_type": "code",
      "metadata": {
        "id": "-YvIAPRyVMBv",
        "colab_type": "code",
        "colab": {}
      },
      "source": [
        "# read tfrecords from gcs\n",
        "def read_tfrecord(example):\n",
        "  \"\"\"Parses one tf record to image, class, one_hot_class\"\"\"\n",
        "  features = {\n",
        "      \"image\": tf.io.FixedLenFeature([], tf.string),\n",
        "      \"class\": tf.io.FixedLenFeature([], tf.int64),\n",
        "  }\n",
        "\n",
        "  example = tf.io.parse_example(example, features)\n",
        "  image = tf.image.decode_jpeg(example['image'], channels=3)\n",
        "  image = tf.cast(image, tf.float32) / 255.0  # convert image to floats in [0, 1] range\n",
        "  image = tf.reshape(image, [*IMAGE_SIZE, 3]) # explicit size will be needed for TPU\n",
        "  label = tf.cast(example['class'], tf.int32)\n",
        "  return image, label\n",
        "\n",
        "def load_tfrecord_dataset(dataset_filenames):\n",
        "  \"\"\"Loads a TFRecord dataset. args: dataset_filnames --> list of strings of files paths\"\"\"\n",
        "\n",
        "  # allows for no order parallel reading\n",
        "  option_no_order = tf.data.Options()\n",
        "  option_no_order.experimental_deterministic = False\n",
        "\n",
        "  dataset = tf.data.TFRecordDataset(dataset_filenames, num_parallel_reads=AUTO)\n",
        "  dataset = dataset.with_options(option_no_order)\n",
        "  dataset = dataset.map(read_tfrecord, num_parallel_calls=AUTO)\n",
        "  return dataset\n",
        "\n",
        "def get_dataset(training_filenames, train=True, augment_func=None):\n",
        "  \"\"\" Read dataset from tfrecords, shuffle and prefetch it\"\"\"\n",
        "\n",
        "  dataset = load_tfrecord_dataset(training_filenames)\n",
        "  dataset = dataset.shuffle(2048)\n",
        "\n",
        "  # augment data if function is available\n",
        "  if augment_func:\n",
        "    dataset = dataset.map(augment_func, num_parallel_calls=AUTO)\n",
        "\n",
        "  dataset = dataset.batch(BATCH_SIZE)\n",
        "  \n",
        "  # repeat dataset for training data\n",
        "  if train:\n",
        "    dataset = dataset.repeat()\n",
        "\n",
        "  dataset = dataset.prefetch(AUTO)\n",
        "\n",
        "  return dataset\n"
      ],
      "execution_count": 0,
      "outputs": []
    },
    {
      "cell_type": "code",
      "metadata": {
        "id": "PZm3SAkOyLtS",
        "colab_type": "code",
        "outputId": "e6148e53-0eee-4b8e-cc98-43c4f10741cd",
        "colab": {
          "base_uri": "https://localhost:8080/",
          "height": 35
        }
      },
      "source": [
        "# getting image paths\n",
        "IMAGE_SIZE = [192, 192]\n",
        "\n",
        "GCS_PATH = \"gs://kds-b2e6cdbc4af76dcf0363776c09c12fe46872cab211d1de9f60ec7aec\" # GCS path for competition data\n",
        "\n",
        "# dict for paths to different image sizes\n",
        "GCS_PATH_SELECT = { # available image sizes\n",
        "    192: GCS_PATH + '/tfrecords-jpeg-192x192',\n",
        "    224: GCS_PATH + '/tfrecords-jpeg-224x224',\n",
        "    331: GCS_PATH + '/tfrecords-jpeg-331x331',\n",
        "    512: GCS_PATH + '/tfrecords-jpeg-512x512'\n",
        "}\n",
        "\n",
        "# get full path with image size and split to train / val / test\n",
        "GCS_PATH = GCS_PATH_SELECT[IMAGE_SIZE[0]]\n",
        "\n",
        "TRAINING_FILENAMES = tf.io.gfile.glob(GCS_PATH + '/train/*.tfrec')\n",
        "VALIDATION_FILENAMES = tf.io.gfile.glob(GCS_PATH + '/val/*.tfrec')\n",
        "TEST_FILENAMES = tf.io.gfile.glob(GCS_PATH + '/test/*.tfrec') # predictions on this dataset should be submitted for the competition\n",
        "\n",
        "# get length of datasets\n",
        "TRAINING_LENGTH = count_data_items(TRAINING_FILENAMES)\n",
        "VALIDATION_LENGTH = count_data_items(VALIDATION_FILENAMES)\n",
        "TEST_LENGTH = count_data_items(TEST_FILENAMES)\n",
        "\n",
        "BATCH_SIZE = 16 * strategy.num_replicas_in_sync\n",
        "STEPS_PER_EPOCH = TRAINING_LENGTH // BATCH_SIZE\n",
        "print('Dataset: {} training images, {} validation images, {} unlabeled test images'.format(TRAINING_LENGTH,VALIDATION_LENGTH, TEST_LENGTH))"
      ],
      "execution_count": 9,
      "outputs": [
        {
          "output_type": "stream",
          "text": [
            "Dataset: 12753 training images, 3712 validation images, 7382 unlabeled test images\n"
          ],
          "name": "stdout"
        }
      ]
    },
    {
      "cell_type": "code",
      "metadata": {
        "id": "WMJ0psj1ZLMd",
        "colab_type": "code",
        "outputId": "dad273ff-f084-4c03-c5e5-5429cf3de632",
        "colab": {
          "base_uri": "https://localhost:8080/",
          "height": 35
        }
      },
      "source": [
        "whole_dataset = get_dataset(TRAINING_FILENAMES + VALIDATION_FILENAMES)\n",
        "training_dataset = get_dataset(TRAINING_FILENAMES, augment_func=augment_image)\n",
        "validation_dataset = get_dataset(VALIDATION_FILENAMES, train=False)\n",
        "test_dataset = load_tfrecord_dataset(TEST_FILENAMES) # have to create a function to load test items from tfrecord\n",
        "\n",
        "print(\"Steps per epoch: {}\".format(STEPS_PER_EPOCH))"
      ],
      "execution_count": 15,
      "outputs": [
        {
          "output_type": "stream",
          "text": [
            "Steps per epoch: 99\n"
          ],
          "name": "stdout"
        }
      ]
    },
    {
      "cell_type": "markdown",
      "metadata": {
        "id": "BRvh9z_1sMPj",
        "colab_type": "text"
      },
      "source": [
        "## Flower classes\n"
      ]
    },
    {
      "cell_type": "code",
      "metadata": {
        "id": "O53AaKRw0ihG",
        "colab_type": "code",
        "colab": {}
      },
      "source": [
        "CLASSES = ['pink primrose',    'hard-leaved pocket orchid', 'canterbury bells', 'sweet pea',     'wild geranium',     'tiger lily',           'moon orchid',              'bird of paradise', 'monkshood',        'globe thistle',         # 00 - 09\n",
        "           'snapdragon',       \"colt's foot\",               'king protea',      'spear thistle', 'yellow iris',       'globe-flower',         'purple coneflower',        'peruvian lily',    'balloon flower',   'giant white arum lily', # 10 - 19\n",
        "           'fire lily',        'pincushion flower',         'fritillary',       'red ginger',    'grape hyacinth',    'corn poppy',           'prince of wales feathers', 'stemless gentian', 'artichoke',        'sweet william',         # 20 - 29\n",
        "           'carnation',        'garden phlox',              'love in the mist', 'cosmos',        'alpine sea holly',  'ruby-lipped cattleya', 'cape flower',              'great masterwort', 'siam tulip',       'lenten rose',           # 30 - 39\n",
        "           'barberton daisy',  'daffodil',                  'sword lily',       'poinsettia',    'bolero deep blue',  'wallflower',           'marigold',                 'buttercup',        'daisy',            'common dandelion',      # 40 - 49\n",
        "           'petunia',          'wild pansy',                'primula',          'sunflower',     'lilac hibiscus',    'bishop of llandaff',   'gaura',                    'geranium',         'orange dahlia',    'pink-yellow dahlia',    # 50 - 59\n",
        "           'cautleya spicata', 'japanese anemone',          'black-eyed susan', 'silverbush',    'californian poppy', 'osteospermum',         'spring crocus',            'iris',             'windflower',       'tree poppy',            # 60 - 69\n",
        "           'gazania',          'azalea',                    'water lily',       'rose',          'thorn apple',       'morning glory',        'passion flower',           'lotus',            'toad lily',        'anthurium',             # 70 - 79\n",
        "           'frangipani',       'clematis',                  'hibiscus',         'columbine',     'desert-rose',       'tree mallow',          'magnolia',                 'cyclamen ',        'watercress',       'canna lily',            # 80 - 89\n",
        "           'hippeastrum ',     'bee balm',                  'pink quill',       'foxglove',      'bougainvillea',     'camellia',             'mallow',                   'mexican petunia',  'bromelia',         'blanket flower',        # 90 - 99\n",
        "           'trumpet creeper',  'blackberry lily',           'common tulip',     'wild rose']                                                                                                                                               # 100 - 102"
      ],
      "execution_count": 0,
      "outputs": []
    },
    {
      "cell_type": "markdown",
      "metadata": {
        "id": "CGN9A73Zdjh0",
        "colab_type": "text"
      },
      "source": [
        "# Data augmentation"
      ]
    },
    {
      "cell_type": "code",
      "metadata": {
        "id": "GFgKgJRvdntA",
        "colab_type": "code",
        "colab": {}
      },
      "source": [
        "def random_scale_and_shift(image, resize_lower_threshold=0.5):\n",
        "  \"\"\" A function that with probability 0.5 takes an image, resize (randomly between resize_lower_threshold and 1) and shifts it by random values.\"\"\"\n",
        "\n",
        "  if np.random.rand() > 0.5:\n",
        "    return image\n",
        "\n",
        "  height, width, _ = image.shape\n",
        "  resize_ratio = np.random.uniform(low=resize_lower_threshold, high=1) # set resize ratio\n",
        "\n",
        "  # get new dimensions\n",
        "  new_height = int(resize_ratio * height)\n",
        "  new_width = int(resize_ratio * width)  \n",
        "\n",
        "  # resize image\n",
        "  resized_image = tf.image.resize(image, size=tf.constant([new_height, new_width], dtype='int32'))\n",
        "\n",
        "  # shit image\n",
        "  new_image = np.random.uniform(size=image.shape) # create ranodm noise image\n",
        "  row_start = np.random.randint(0, high=height-new_height)\n",
        "  column_start = np.random.randint(0, high=width-new_width)\n",
        "  new_image[row_start:row_start+new_height, column_start:column_start+new_width,:] = resized_image\n",
        "\n",
        "  return new_image\n",
        "\n",
        "def augment_image(image, label):\n",
        "  \n",
        "  \"\"\"Randomly flip and saturate an image. args: image, label\"\"\"\n",
        "  aug_image = tf.image.random_flip_left_right(image)\n",
        "  aug_image = random_scale_and_shift(image)\n",
        "\n",
        "  return aug_image, label\n",
        "\n",
        "\n",
        "def augment_tf_dataset(dataset):\n",
        "  double_data = dataset\n",
        "  \n",
        "  return double_data.map(augment_image, num_parallel_calls=AUTO)\n",
        "  "
      ],
      "execution_count": 0,
      "outputs": []
    },
    {
      "cell_type": "markdown",
      "metadata": {
        "id": "WAIFHa-WbyIb",
        "colab_type": "text"
      },
      "source": [
        "# Simple transfer learning model\n",
        "\n",
        "*   untrainable weights\n",
        "\n"
      ]
    },
    {
      "cell_type": "code",
      "metadata": {
        "id": "Q6FfS32qhxIV",
        "colab_type": "code",
        "colab": {}
      },
      "source": [
        "def get_pretrained_model(trainable=False):\n",
        "  # get xception / densenet / inception pretrained model\n",
        "  pretrained = keras.applications.InceptionResNetV2(include_top=False, input_shape=[*IMAGE_SIZE,3])\n",
        "  #pretrained = keras.applications.Xception(include_top=False, input_shape=[*IMAGE_SIZE,3])\n",
        "  #pretrained = tf.keras.applications.DenseNet201(include_top=False, input_shape=[*IMAGE_SIZE,3], weights='imagenet')\n",
        "  pretrained.trainable = trainable\n",
        "\n",
        "  # define model\n",
        "  model = tf.keras.models.Sequential([\n",
        "    pretrained,\n",
        "    tf.keras.layers.GlobalAveragePooling2D(),\n",
        "    tf.keras.layers.Dense(len(CLASSES), activation='softmax')\n",
        "  ])\n",
        "\n",
        "  model.compile(optimizer='adam', loss='sparse_categorical_crossentropy', metrics=['sparse_categorical_accuracy'])\n",
        "  return model"
      ],
      "execution_count": 0,
      "outputs": []
    },
    {
      "cell_type": "code",
      "metadata": {
        "id": "fUPw5N73elYj",
        "colab_type": "code",
        "colab": {}
      },
      "source": [
        "#with strategy.scope():\n",
        "  #model = get_pretrained_model()\n",
        "  #model.summary()"
      ],
      "execution_count": 0,
      "outputs": []
    },
    {
      "cell_type": "code",
      "metadata": {
        "colab_type": "code",
        "id": "jjzneidWU68d",
        "colab": {}
      },
      "source": [
        "#hist = model.fit(batched_training_dataset, epochs=3, validation_data=batched_validation_dataset)"
      ],
      "execution_count": 0,
      "outputs": []
    },
    {
      "cell_type": "code",
      "metadata": {
        "id": "9tCiFwXMhOT_",
        "colab_type": "code",
        "colab": {}
      },
      "source": [
        "#display_training_curves(hist.history, metric='sparse_categorical_accuracy', with_val=True)"
      ],
      "execution_count": 0,
      "outputs": []
    },
    {
      "cell_type": "markdown",
      "metadata": {
        "id": "7ALnQXdKvM48",
        "colab_type": "text"
      },
      "source": [
        "# Compute unbalanced class weights"
      ]
    },
    {
      "cell_type": "code",
      "metadata": {
        "id": "JB0x2P8hu0d3",
        "colab_type": "code",
        "colab": {}
      },
      "source": [
        "from sklearn.utils import class_weight\n",
        "y_train = training_dataset.map(lambda image, label: label).as_numpy_iterator()\n",
        "y_train = [x for x in y_train]\n",
        "class_weights = class_weight.compute_class_weight('balanced', [x for x in range(len(CLASSES))], y_train)\n",
        "class_weights = {i: class_weights[i] for i in range(len(class_weights))} # converting to dict"
      ],
      "execution_count": 0,
      "outputs": []
    },
    {
      "cell_type": "markdown",
      "metadata": {
        "id": "GBMLF3iE7U9E",
        "colab_type": "text"
      },
      "source": [
        "# Transfer learning with trainable weights"
      ]
    },
    {
      "cell_type": "code",
      "metadata": {
        "id": "Y1oOqjE0Ms4Z",
        "colab_type": "code",
        "outputId": "00c6ade6-ec1f-4c89-e786-45d989f90ba6",
        "colab": {
          "base_uri": "https://localhost:8080/",
          "height": 269
        }
      },
      "source": [
        "with strategy.scope():\n",
        "  model = get_pretrained_model(trainable=True)\n",
        "  model.summary()"
      ],
      "execution_count": 0,
      "outputs": [
        {
          "output_type": "stream",
          "text": [
            "Model: \"sequential_3\"\n",
            "_________________________________________________________________\n",
            "Layer (type)                 Output Shape              Param #   \n",
            "=================================================================\n",
            "inception_resnet_v2 (Model)  (None, 4, 4, 1536)        54336736  \n",
            "_________________________________________________________________\n",
            "global_average_pooling2d_9 ( (None, 1536)              0         \n",
            "_________________________________________________________________\n",
            "dense_9 (Dense)              (None, 104)               159848    \n",
            "=================================================================\n",
            "Total params: 54,496,584\n",
            "Trainable params: 54,436,040\n",
            "Non-trainable params: 60,544\n",
            "_________________________________________________________________\n"
          ],
          "name": "stdout"
        }
      ]
    },
    {
      "cell_type": "code",
      "metadata": {
        "id": "z5Rnb9g97hsb",
        "colab_type": "code",
        "outputId": "21728b34-7f7e-4898-dd13-a5233695cbf9",
        "colab": {
          "base_uri": "https://localhost:8080/",
          "height": 374
        }
      },
      "source": [
        "def step_lr_schedule(epoch, current, decay_rate=0.8, initial_lr=1e-5, linear_slope= 1e-5, peak_slope=5):\n",
        "  \"\"\"transfer learning step scheduler. args: epoch number, curren learning rate\"\"\"\n",
        "\n",
        "  if epoch <= peak_slope:\n",
        "    return initial_lr + linear_slope * epoch\n",
        "  else:\n",
        "    return current * decay_rate**(epoch-peak_slope)\n",
        "\n",
        "def get_transfer_learning_schedule(decay_rate=0.8, initial_lr=1e-5, linear_slope=1e-5, peak_slope=5):\n",
        "  \"\"\"Get a learning rate step scheduler. args: parameters for the step curve\"\"\"\n",
        "\n",
        "  return lambda epoch, current: step_lr_schedule(epoch, current, decay_rate, initial_lr, linear_slope, peak_slope)\n",
        "\n",
        "def plot_lr_schedule(lr_schedule, num_epochs):\n",
        "  \"\"\" given a learning schedule function, prints its graph\"\"\"\n",
        "\n",
        "  current = 0 # initial learning rate\n",
        "  lrs = []\n",
        "  epochs = range(num_epochs)\n",
        "  for epoch in epochs:\n",
        "    lr = lr_schedule(epoch, current)\n",
        "    current = lr # change current learning rate to function outcome\n",
        "    lrs.append(lr)\n",
        "\n",
        "  plt.figure(figsize=(10,6))\n",
        "  plt.plot(epochs, lrs)\n",
        "\n",
        "transfer_lr_schedule = get_transfer_learning_schedule(decay_rate=0.97, initial_lr=1e-5, linear_slope=4e-5, peak_slope=5)\n",
        "\n",
        "# visualize lr\n",
        "plot_lr_schedule(transfer_lr_schedule, 20)"
      ],
      "execution_count": 0,
      "outputs": [
        {
          "output_type": "display_data",
          "data": {
            "image/png": "[encoded data removed]",
            "text/plain": [
              "<Figure size 720x432 with 1 Axes>"
            ]
          },
          "metadata": {
            "tags": [],
            "needs_background": "light"
          }
        }
      ]
    },
    {
      "cell_type": "code",
      "metadata": {
        "id": "jKpbOw1q4j3Q",
        "colab_type": "code",
        "outputId": "013339f1-9d4c-46c1-b380-43331bf546fe",
        "colab": {
          "base_uri": "https://localhost:8080/",
          "height": 53
        }
      },
      "source": [
        "## creating callbacks\n",
        "schedule = tf.keras.callbacks.LearningRateScheduler(transfer_lr_schedule, verbose=1)\n",
        "early_stopping = tf.keras.callbacks.EarlyStopping(monitor='val_sparse_categorical_accuracy', mode='auto', restore_best_weights=True, patience=3, verbose=1)\n",
        "model_chkpt = tf.keras.callbacks.ModelCheckpoint(filepath='chkpt', monitor='sparse_categorical_crossentropy', verbose=1, period=5)"
      ],
      "execution_count": 0,
      "outputs": [
        {
          "output_type": "stream",
          "text": [
            "WARNING:tensorflow:`period` argument is deprecated. Please use `save_freq` to specify the frequency in number of batches seen.\n"
          ],
          "name": "stdout"
        },
        {
          "output_type": "stream",
          "text": [
            "WARNING:tensorflow:`period` argument is deprecated. Please use `save_freq` to specify the frequency in number of batches seen.\n"
          ],
          "name": "stderr"
        }
      ]
    },
    {
      "cell_type": "code",
      "metadata": {
        "id": "yj1vd1sr-Y_3",
        "colab_type": "code",
        "outputId": "dec0cc01-1734-4d5e-8ab0-c01f23bdf6b6",
        "colab": {
          "base_uri": "https://localhost:8080/",
          "height": 627
        }
      },
      "source": [
        "# train_model\n",
        "hist = model.fit(training_dataset, epochs = 25,\n",
        "                 callbacks=[schedule, early_stopping], validation_data=batched_validation_dataset, steps_per_epoch=STEPS_PER_EPOCH)#, class_weight=class_weights)"
      ],
      "execution_count": 0,
      "outputs": [
        {
          "output_type": "stream",
          "text": [
            "\n",
            "Epoch 00001: LearningRateScheduler reducing learning rate to 1e-05.\n",
            "Epoch 1/25\n",
            "99/99 [==============================] - ETA: 0s - loss: 4.4164 - sparse_categorical_accuracy: 0.0971WARNING:tensorflow:Model was constructed with shape (None, 192, 192, 3) for input Tensor(\"inception_resnet_v2_input_1:0\", shape=(None, 192, 192, 3), dtype=float32), but it was called on an input with incompatible shape (None, 331, 331, 3).\n"
          ],
          "name": "stdout"
        },
        {
          "output_type": "stream",
          "text": [
            "WARNING:tensorflow:Model was constructed with shape (None, 192, 192, 3) for input Tensor(\"inception_resnet_v2_input_1:0\", shape=(None, 192, 192, 3), dtype=float32), but it was called on an input with incompatible shape (None, 331, 331, 3).\n"
          ],
          "name": "stderr"
        },
        {
          "output_type": "stream",
          "text": [
            "WARNING:tensorflow:Model was constructed with shape (None, 192, 192, 3) for input Tensor(\"input_22:0\", shape=(None, 192, 192, 3), dtype=float32), but it was called on an input with incompatible shape (None, 331, 331, 3).\n"
          ],
          "name": "stdout"
        },
        {
          "output_type": "stream",
          "text": [
            "WARNING:tensorflow:Model was constructed with shape (None, 192, 192, 3) for input Tensor(\"input_22:0\", shape=(None, 192, 192, 3), dtype=float32), but it was called on an input with incompatible shape (None, 331, 331, 3).\n"
          ],
          "name": "stderr"
        },
        {
          "output_type": "stream",
          "text": [
            "\b\b\b\b\b\b\b\b\b\b\b\b\b\b\b\b\b\b\b\b\b\b\b\b\b\b\b\b\b\b\b\b\b\b\b\b\b\b\b\b\b\b\b\b\b\b\b\b\b\b\b\b\b\b\b\b\b\b\b\b\b\b\b\b\b\b\b\b\b\b\b\b\b\b\b\b\b\b\b\b\b\b\b\b\b\b\b\b\b\b\b\b\b\b\b\b\b\b\b\b\b\r99/99 [==============================] - 55s 558ms/step - loss: 4.4164 - sparse_categorical_accuracy: 0.0971 - val_loss: 4.4569 - val_sparse_categorical_accuracy: 0.1851 - lr: 1.0000e-05\n",
            "\n",
            "Epoch 00002: LearningRateScheduler reducing learning rate to 5e-05.\n",
            "Epoch 2/25\n",
            "99/99 [==============================] - ETA: 0s - loss: 2.5468 - sparse_categorical_accuracy: 0.4590WARNING:tensorflow:Model was constructed with shape (None, 192, 192, 3) for input Tensor(\"inception_resnet_v2_input_1:0\", shape=(None, 192, 192, 3), dtype=float32), but it was called on an input with incompatible shape (None, 331, 331, 3).\n"
          ],
          "name": "stdout"
        },
        {
          "output_type": "stream",
          "text": [
            "WARNING:tensorflow:Model was constructed with shape (None, 192, 192, 3) for input Tensor(\"inception_resnet_v2_input_1:0\", shape=(None, 192, 192, 3), dtype=float32), but it was called on an input with incompatible shape (None, 331, 331, 3).\n"
          ],
          "name": "stderr"
        },
        {
          "output_type": "stream",
          "text": [
            "WARNING:tensorflow:Model was constructed with shape (None, 192, 192, 3) for input Tensor(\"input_22:0\", shape=(None, 192, 192, 3), dtype=float32), but it was called on an input with incompatible shape (None, 331, 331, 3).\n"
          ],
          "name": "stdout"
        },
        {
          "output_type": "stream",
          "text": [
            "WARNING:tensorflow:Model was constructed with shape (None, 192, 192, 3) for input Tensor(\"input_22:0\", shape=(None, 192, 192, 3), dtype=float32), but it was called on an input with incompatible shape (None, 331, 331, 3).\n"
          ],
          "name": "stderr"
        },
        {
          "output_type": "error",
          "ename": "KeyboardInterrupt",
          "evalue": "ignored",
          "traceback": [
            "\u001b[0;31m---------------------------------------------------------------------------\u001b[0m",
            "\u001b[0;31mKeyboardInterrupt\u001b[0m                         Traceback (most recent call last)",
            "\u001b[0;32m<ipython-input-70-a80789c01bce>\u001b[0m in \u001b[0;36m<module>\u001b[0;34m()\u001b[0m\n\u001b[1;32m      1\u001b[0m hist = model.fit(training_dataset, epochs = 25,\n\u001b[0;32m----> 2\u001b[0;31m                  callbacks=[schedule, early_stopping], validation_data=batched_validation_dataset, steps_per_epoch=STEPS_PER_EPOCH)#, class_weight=class_weights)\n\u001b[0m",
            "\u001b[0;32m/usr/local/lib/python3.6/dist-packages/tensorflow/python/keras/engine/training.py\u001b[0m in \u001b[0;36m_method_wrapper\u001b[0;34m(self, *args, **kwargs)\u001b[0m\n\u001b[1;32m     64\u001b[0m   \u001b[0;32mdef\u001b[0m \u001b[0m_method_wrapper\u001b[0m\u001b[0;34m(\u001b[0m\u001b[0mself\u001b[0m\u001b[0;34m,\u001b[0m \u001b[0;34m*\u001b[0m\u001b[0margs\u001b[0m\u001b[0;34m,\u001b[0m \u001b[0;34m**\u001b[0m\u001b[0mkwargs\u001b[0m\u001b[0;34m)\u001b[0m\u001b[0;34m:\u001b[0m\u001b[0;34m\u001b[0m\u001b[0;34m\u001b[0m\u001b[0m\n\u001b[1;32m     65\u001b[0m     \u001b[0;32mif\u001b[0m \u001b[0;32mnot\u001b[0m \u001b[0mself\u001b[0m\u001b[0;34m.\u001b[0m\u001b[0m_in_multi_worker_mode\u001b[0m\u001b[0;34m(\u001b[0m\u001b[0;34m)\u001b[0m\u001b[0;34m:\u001b[0m  \u001b[0;31m# pylint: disable=protected-access\u001b[0m\u001b[0;34m\u001b[0m\u001b[0;34m\u001b[0m\u001b[0m\n\u001b[0;32m---> 66\u001b[0;31m       \u001b[0;32mreturn\u001b[0m \u001b[0mmethod\u001b[0m\u001b[0;34m(\u001b[0m\u001b[0mself\u001b[0m\u001b[0;34m,\u001b[0m \u001b[0;34m*\u001b[0m\u001b[0margs\u001b[0m\u001b[0;34m,\u001b[0m \u001b[0;34m**\u001b[0m\u001b[0mkwargs\u001b[0m\u001b[0;34m)\u001b[0m\u001b[0;34m\u001b[0m\u001b[0;34m\u001b[0m\u001b[0m\n\u001b[0m\u001b[1;32m     67\u001b[0m \u001b[0;34m\u001b[0m\u001b[0m\n\u001b[1;32m     68\u001b[0m     \u001b[0;31m# Running inside `run_distribute_coordinator` already.\u001b[0m\u001b[0;34m\u001b[0m\u001b[0;34m\u001b[0m\u001b[0;34m\u001b[0m\u001b[0m\n",
            "\u001b[0;32m/usr/local/lib/python3.6/dist-packages/tensorflow/python/keras/engine/training.py\u001b[0m in \u001b[0;36mfit\u001b[0;34m(self, x, y, batch_size, epochs, verbose, callbacks, validation_split, validation_data, shuffle, class_weight, sample_weight, initial_epoch, steps_per_epoch, validation_steps, validation_batch_size, validation_freq, max_queue_size, workers, use_multiprocessing, **kwargs)\u001b[0m\n\u001b[1;32m    807\u001b[0m               \u001b[0mworkers\u001b[0m\u001b[0;34m=\u001b[0m\u001b[0mworkers\u001b[0m\u001b[0;34m,\u001b[0m\u001b[0;34m\u001b[0m\u001b[0;34m\u001b[0m\u001b[0m\n\u001b[1;32m    808\u001b[0m               \u001b[0muse_multiprocessing\u001b[0m\u001b[0;34m=\u001b[0m\u001b[0muse_multiprocessing\u001b[0m\u001b[0;34m,\u001b[0m\u001b[0;34m\u001b[0m\u001b[0;34m\u001b[0m\u001b[0m\n\u001b[0;32m--> 809\u001b[0;31m               return_dict=True)\n\u001b[0m\u001b[1;32m    810\u001b[0m           \u001b[0mval_logs\u001b[0m \u001b[0;34m=\u001b[0m \u001b[0;34m{\u001b[0m\u001b[0;34m'val_'\u001b[0m \u001b[0;34m+\u001b[0m \u001b[0mname\u001b[0m\u001b[0;34m:\u001b[0m \u001b[0mval\u001b[0m \u001b[0;32mfor\u001b[0m \u001b[0mname\u001b[0m\u001b[0;34m,\u001b[0m \u001b[0mval\u001b[0m \u001b[0;32min\u001b[0m \u001b[0mval_logs\u001b[0m\u001b[0;34m.\u001b[0m\u001b[0mitems\u001b[0m\u001b[0;34m(\u001b[0m\u001b[0;34m)\u001b[0m\u001b[0;34m}\u001b[0m\u001b[0;34m\u001b[0m\u001b[0;34m\u001b[0m\u001b[0m\n\u001b[1;32m    811\u001b[0m           \u001b[0mepoch_logs\u001b[0m\u001b[0;34m.\u001b[0m\u001b[0mupdate\u001b[0m\u001b[0;34m(\u001b[0m\u001b[0mval_logs\u001b[0m\u001b[0;34m)\u001b[0m\u001b[0;34m\u001b[0m\u001b[0;34m\u001b[0m\u001b[0m\n",
            "\u001b[0;32m/usr/local/lib/python3.6/dist-packages/tensorflow/python/keras/engine/training.py\u001b[0m in \u001b[0;36m_method_wrapper\u001b[0;34m(self, *args, **kwargs)\u001b[0m\n\u001b[1;32m     64\u001b[0m   \u001b[0;32mdef\u001b[0m \u001b[0m_method_wrapper\u001b[0m\u001b[0;34m(\u001b[0m\u001b[0mself\u001b[0m\u001b[0;34m,\u001b[0m \u001b[0;34m*\u001b[0m\u001b[0margs\u001b[0m\u001b[0;34m,\u001b[0m \u001b[0;34m**\u001b[0m\u001b[0mkwargs\u001b[0m\u001b[0;34m)\u001b[0m\u001b[0;34m:\u001b[0m\u001b[0;34m\u001b[0m\u001b[0;34m\u001b[0m\u001b[0m\n\u001b[1;32m     65\u001b[0m     \u001b[0;32mif\u001b[0m \u001b[0;32mnot\u001b[0m \u001b[0mself\u001b[0m\u001b[0;34m.\u001b[0m\u001b[0m_in_multi_worker_mode\u001b[0m\u001b[0;34m(\u001b[0m\u001b[0;34m)\u001b[0m\u001b[0;34m:\u001b[0m  \u001b[0;31m# pylint: disable=protected-access\u001b[0m\u001b[0;34m\u001b[0m\u001b[0;34m\u001b[0m\u001b[0m\n\u001b[0;32m---> 66\u001b[0;31m       \u001b[0;32mreturn\u001b[0m \u001b[0mmethod\u001b[0m\u001b[0;34m(\u001b[0m\u001b[0mself\u001b[0m\u001b[0;34m,\u001b[0m \u001b[0;34m*\u001b[0m\u001b[0margs\u001b[0m\u001b[0;34m,\u001b[0m \u001b[0;34m**\u001b[0m\u001b[0mkwargs\u001b[0m\u001b[0;34m)\u001b[0m\u001b[0;34m\u001b[0m\u001b[0;34m\u001b[0m\u001b[0m\n\u001b[0m\u001b[1;32m     67\u001b[0m \u001b[0;34m\u001b[0m\u001b[0m\n\u001b[1;32m     68\u001b[0m     \u001b[0;31m# Running inside `run_distribute_coordinator` already.\u001b[0m\u001b[0;34m\u001b[0m\u001b[0;34m\u001b[0m\u001b[0;34m\u001b[0m\u001b[0m\n",
            "\u001b[0;32m/usr/local/lib/python3.6/dist-packages/tensorflow/python/keras/engine/training.py\u001b[0m in \u001b[0;36mevaluate\u001b[0;34m(self, x, y, batch_size, verbose, sample_weight, steps, callbacks, max_queue_size, workers, use_multiprocessing, return_dict)\u001b[0m\n\u001b[1;32m   1021\u001b[0m               \u001b[0;31m# TODO(b/150292341): Allow multiple async steps here.\u001b[0m\u001b[0;34m\u001b[0m\u001b[0;34m\u001b[0m\u001b[0;34m\u001b[0m\u001b[0m\n\u001b[1;32m   1022\u001b[0m               \u001b[0;32mif\u001b[0m \u001b[0;32mnot\u001b[0m \u001b[0mdata_handler\u001b[0m\u001b[0;34m.\u001b[0m\u001b[0minferred_steps\u001b[0m\u001b[0;34m:\u001b[0m\u001b[0;34m\u001b[0m\u001b[0;34m\u001b[0m\u001b[0m\n\u001b[0;32m-> 1023\u001b[0;31m                 \u001b[0mcontext\u001b[0m\u001b[0;34m.\u001b[0m\u001b[0masync_wait\u001b[0m\u001b[0;34m(\u001b[0m\u001b[0;34m)\u001b[0m\u001b[0;34m\u001b[0m\u001b[0;34m\u001b[0m\u001b[0m\n\u001b[0m\u001b[1;32m   1024\u001b[0m               \u001b[0mlogs\u001b[0m \u001b[0;34m=\u001b[0m \u001b[0mtmp_logs\u001b[0m  \u001b[0;31m# No error, now safe to assign to logs.\u001b[0m\u001b[0;34m\u001b[0m\u001b[0;34m\u001b[0m\u001b[0m\n\u001b[1;32m   1025\u001b[0m               \u001b[0mcallbacks\u001b[0m\u001b[0;34m.\u001b[0m\u001b[0mon_test_batch_end\u001b[0m\u001b[0;34m(\u001b[0m\u001b[0mstep\u001b[0m\u001b[0;34m,\u001b[0m \u001b[0mlogs\u001b[0m\u001b[0;34m)\u001b[0m\u001b[0;34m\u001b[0m\u001b[0;34m\u001b[0m\u001b[0m\n",
            "\u001b[0;32m/usr/local/lib/python3.6/dist-packages/tensorflow/python/eager/context.py\u001b[0m in \u001b[0;36masync_wait\u001b[0;34m()\u001b[0m\n\u001b[1;32m   2201\u001b[0m   \u001b[0man\u001b[0m \u001b[0merror\u001b[0m \u001b[0mstate\u001b[0m\u001b[0;34m.\u001b[0m\u001b[0;34m\u001b[0m\u001b[0;34m\u001b[0m\u001b[0m\n\u001b[1;32m   2202\u001b[0m   \"\"\"\n\u001b[0;32m-> 2203\u001b[0;31m   \u001b[0mcontext\u001b[0m\u001b[0;34m(\u001b[0m\u001b[0;34m)\u001b[0m\u001b[0;34m.\u001b[0m\u001b[0msync_executors\u001b[0m\u001b[0;34m(\u001b[0m\u001b[0;34m)\u001b[0m\u001b[0;34m\u001b[0m\u001b[0;34m\u001b[0m\u001b[0m\n\u001b[0m\u001b[1;32m   2204\u001b[0m \u001b[0;34m\u001b[0m\u001b[0m\n\u001b[1;32m   2205\u001b[0m \u001b[0;34m\u001b[0m\u001b[0m\n",
            "\u001b[0;32m/usr/local/lib/python3.6/dist-packages/tensorflow/python/eager/context.py\u001b[0m in \u001b[0;36msync_executors\u001b[0;34m(self)\u001b[0m\n\u001b[1;32m    636\u001b[0m     \"\"\"\n\u001b[1;32m    637\u001b[0m     \u001b[0;32mif\u001b[0m \u001b[0mself\u001b[0m\u001b[0;34m.\u001b[0m\u001b[0m_context_handle\u001b[0m\u001b[0;34m:\u001b[0m\u001b[0;34m\u001b[0m\u001b[0;34m\u001b[0m\u001b[0m\n\u001b[0;32m--> 638\u001b[0;31m       \u001b[0mpywrap_tfe\u001b[0m\u001b[0;34m.\u001b[0m\u001b[0mTFE_ContextSyncExecutors\u001b[0m\u001b[0;34m(\u001b[0m\u001b[0mself\u001b[0m\u001b[0;34m.\u001b[0m\u001b[0m_context_handle\u001b[0m\u001b[0;34m)\u001b[0m\u001b[0;34m\u001b[0m\u001b[0;34m\u001b[0m\u001b[0m\n\u001b[0m\u001b[1;32m    639\u001b[0m     \u001b[0;32melse\u001b[0m\u001b[0;34m:\u001b[0m\u001b[0;34m\u001b[0m\u001b[0;34m\u001b[0m\u001b[0m\n\u001b[1;32m    640\u001b[0m       \u001b[0;32mraise\u001b[0m \u001b[0mValueError\u001b[0m\u001b[0;34m(\u001b[0m\u001b[0;34m\"Context is not initialized.\"\u001b[0m\u001b[0;34m)\u001b[0m\u001b[0;34m\u001b[0m\u001b[0;34m\u001b[0m\u001b[0m\n",
            "\u001b[0;31mKeyboardInterrupt\u001b[0m: "
          ]
        }
      ]
    },
    {
      "cell_type": "code",
      "metadata": {
        "id": "inWCu_xPKTM8",
        "colab_type": "code",
        "outputId": "53774001-19e0-4dec-a663-ce9e0c536c76",
        "colab": {
          "base_uri": "https://localhost:8080/",
          "height": 404
        }
      },
      "source": [
        "display_training_curves(hist.history, metric='sparse_categorical_accuracy', with_val=True)"
      ],
      "execution_count": 0,
      "outputs": [
        {
          "output_type": "display_data",
          "data": {
            "image/png": "[encoded data removed]",
            "text/plain": [
              "<Figure size 1296x432 with 2 Axes>"
            ]
          },
          "metadata": {
            "tags": [],
            "needs_background": "light"
          }
        }
      ]
    },
    {
      "cell_type": "code",
      "metadata": {
        "colab_type": "code",
        "id": "SXuIZ3EruzW_",
        "colab": {}
      },
      "source": [
        "display_model_predictions(model, validation_dataset)"
      ],
      "execution_count": 0,
      "outputs": []
    },
    {
      "cell_type": "markdown",
      "metadata": {
        "id": "EizdNda7wtBK",
        "colab_type": "text"
      },
      "source": [
        "# Custom cnns"
      ]
    },
    {
      "cell_type": "markdown",
      "metadata": {
        "id": "JiIdDWvO8B2G",
        "colab_type": "text"
      },
      "source": [
        "## Inception"
      ]
    },
    {
      "cell_type": "code",
      "metadata": {
        "id": "elE2A6pAwsF4",
        "colab_type": "code",
        "outputId": "288a033b-4ca4-43f8-cfa7-faa467baf541",
        "colab": {
          "base_uri": "https://localhost:8080/",
          "height": 1000
        }
      },
      "source": [
        "from tensorflow.keras.layers import SeparableConv2D, Conv2D, Flatten, Dense, GlobalAveragePooling2D, BatchNormalization, MaxPooling2D, concatenate, Input\n",
        "from tensorflow.keras import  Model\n",
        "\n",
        "def inception_block(x, num_3_filters, num_1_filters, batch_norm_moment = 0.9):\n",
        "  \"\"\" Get InceptionV2 style block\"\"\"\n",
        "  side_pool = MaxPooling2D(pool_size=(2,2))(x)\n",
        "  # middle branch\n",
        "  middle_branch_1 = SeparableConv2D(num_1_filters, kernel_size=(1,1), strides=(1,1), activation = 'relu', padding='same')(x)\n",
        "  middle_branch_1 = BatchNormalization(momentum=batch_norm_moment)(middle_branch_1)\n",
        "  middle_branch_3 = SeparableConv2D(num_3_filters, kernel_size=(3,3), strides=(2,2), activation='relu', padding='same')(middle_branch_1)\n",
        "  middle_branch_3 = BatchNormalization(momentum=batch_norm_moment)(middle_branch_3)\n",
        "\n",
        "  # big branch\n",
        "  big_branch_1 = SeparableConv2D(num_1_filters, kernel_size=(1,1), strides=(1,1), activation = 'relu', padding='same')(x)\n",
        "  big_branch_1 = BatchNormalization(momentum=batch_norm_moment)(big_branch_1)\n",
        "  big_branch_3_1 = SeparableConv2D(num_3_filters, kernel_size=(3,3), strides=(1,1), padding='same', activation='relu')(big_branch_1)\n",
        "  big_branch_3_1 = BatchNormalization(momentum=batch_norm_moment)(big_branch_3_1)\n",
        "  big_branch_3_2 = SeparableConv2D(num_3_filters, kernel_size=(3,3), strides=(2,2), activation='relu', padding='same')(big_branch_3_1)\n",
        "  big_branch_3_2 = BatchNormalization(momentum=batch_norm_moment)(big_branch_3_2)\n",
        "\n",
        "  depth_concat = concatenate([side_pool, middle_branch_3, big_branch_3_2])\n",
        "  \n",
        "  return depth_concat\n",
        "\n",
        "def inception(num_3_filters, num_1_filters, batch_norm_moment = 0.9):\n",
        "  \"\"\" Creates an Inception v2 style layer.\"\"\"\n",
        "  \n",
        "  return lambda x: inception_block(x, num_3_filters, num_1_filters, batch_norm_moment = 0.9)\n",
        "\n",
        "# stem\n",
        "x = Input(shape=[*IMAGE_SIZE, 3])\n",
        "#mp = MaxPooling2D(pool_size=(2,2))(x)\n",
        "c1 = SeparableConv2D(6, kernel_size=(3,3), padding='valid', activation='relu')(x)\n",
        "c1 = BatchNormalization(momentum=0.9)(c1)\n",
        "c2 = SeparableConv2D(12, kernel_size=(3,3), padding='valid', activation='relu')(c1)\n",
        "c2 = BatchNormalization(momentum=0.9)(c2)\n",
        "c3 = SeparableConv2D(24, kernel_size=(3,3), padding='valid', activation='relu')(c2)\n",
        "c3 = BatchNormalization(momentum=0.9)(c3)\n",
        "mp1 = MaxPooling2D(pool_size=(2,2))(c3)\n",
        "c4 = SeparableConv2D(48, kernel_size=(3,3), padding='valid', activation='relu')(mp1)\n",
        "c4 = BatchNormalization(momentum=0.9)(c4)\n",
        "c5 = SeparableConv2D(96, kernel_size=(3,3), padding='valid', activation='relu')(c4)\n",
        "c5 = BatchNormalization(momentum=0.9)(c5)\n",
        "mp2 = MaxPooling2D(pool_size=(2,2))(c5)\n",
        "\n",
        "# inception blocks\n",
        "i1 = inception(192,96)(mp2)\n",
        "i2 = inception(192,384)(i1)\n",
        "i3 = inception(384,768)(i1)\n",
        "g = GlobalAveragePooling2D()(i2)\n",
        "d = Dense(len(CLASSES), activation='softmax')(g)\n",
        "model = Model(inputs=x, outputs=d)\n",
        "model.compile(optimizer='adam', loss='sparse_categorical_crossentropy', metrics=['accuracy'])\n",
        "model.summary()"
      ],
      "execution_count": 21,
      "outputs": [
        {
          "output_type": "stream",
          "text": [
            "Model: \"model\"\n",
            "__________________________________________________________________________________________________\n",
            "Layer (type)                    Output Shape         Param #     Connected to                     \n",
            "==================================================================================================\n",
            "input_1 (InputLayer)            [(None, 192, 192, 3) 0                                            \n",
            "__________________________________________________________________________________________________\n",
            "separable_conv2d (SeparableConv (None, 190, 190, 6)  51          input_1[0][0]                    \n",
            "__________________________________________________________________________________________________\n",
            "batch_normalization (BatchNorma (None, 190, 190, 6)  24          separable_conv2d[0][0]           \n",
            "__________________________________________________________________________________________________\n",
            "separable_conv2d_1 (SeparableCo (None, 188, 188, 12) 138         batch_normalization[0][0]        \n",
            "__________________________________________________________________________________________________\n",
            "batch_normalization_1 (BatchNor (None, 188, 188, 12) 48          separable_conv2d_1[0][0]         \n",
            "__________________________________________________________________________________________________\n",
            "separable_conv2d_2 (SeparableCo (None, 186, 186, 24) 420         batch_normalization_1[0][0]      \n",
            "__________________________________________________________________________________________________\n",
            "batch_normalization_2 (BatchNor (None, 186, 186, 24) 96          separable_conv2d_2[0][0]         \n",
            "__________________________________________________________________________________________________\n",
            "max_pooling2d (MaxPooling2D)    (None, 93, 93, 24)   0           batch_normalization_2[0][0]      \n",
            "__________________________________________________________________________________________________\n",
            "separable_conv2d_3 (SeparableCo (None, 91, 91, 48)   1416        max_pooling2d[0][0]              \n",
            "__________________________________________________________________________________________________\n",
            "batch_normalization_3 (BatchNor (None, 91, 91, 48)   192         separable_conv2d_3[0][0]         \n",
            "__________________________________________________________________________________________________\n",
            "separable_conv2d_4 (SeparableCo (None, 89, 89, 96)   5136        batch_normalization_3[0][0]      \n",
            "__________________________________________________________________________________________________\n",
            "batch_normalization_4 (BatchNor (None, 89, 89, 96)   384         separable_conv2d_4[0][0]         \n",
            "__________________________________________________________________________________________________\n",
            "max_pooling2d_1 (MaxPooling2D)  (None, 44, 44, 96)   0           batch_normalization_4[0][0]      \n",
            "__________________________________________________________________________________________________\n",
            "separable_conv2d_7 (SeparableCo (None, 44, 44, 96)   9408        max_pooling2d_1[0][0]            \n",
            "__________________________________________________________________________________________________\n",
            "batch_normalization_7 (BatchNor (None, 44, 44, 96)   384         separable_conv2d_7[0][0]         \n",
            "__________________________________________________________________________________________________\n",
            "separable_conv2d_5 (SeparableCo (None, 44, 44, 96)   9408        max_pooling2d_1[0][0]            \n",
            "__________________________________________________________________________________________________\n",
            "separable_conv2d_8 (SeparableCo (None, 44, 44, 192)  19488       batch_normalization_7[0][0]      \n",
            "__________________________________________________________________________________________________\n",
            "batch_normalization_5 (BatchNor (None, 44, 44, 96)   384         separable_conv2d_5[0][0]         \n",
            "__________________________________________________________________________________________________\n",
            "batch_normalization_8 (BatchNor (None, 44, 44, 192)  768         separable_conv2d_8[0][0]         \n",
            "__________________________________________________________________________________________________\n",
            "separable_conv2d_6 (SeparableCo (None, 22, 22, 192)  19488       batch_normalization_5[0][0]      \n",
            "__________________________________________________________________________________________________\n",
            "separable_conv2d_9 (SeparableCo (None, 22, 22, 192)  38784       batch_normalization_8[0][0]      \n",
            "__________________________________________________________________________________________________\n",
            "max_pooling2d_2 (MaxPooling2D)  (None, 22, 22, 96)   0           max_pooling2d_1[0][0]            \n",
            "__________________________________________________________________________________________________\n",
            "batch_normalization_6 (BatchNor (None, 22, 22, 192)  768         separable_conv2d_6[0][0]         \n",
            "__________________________________________________________________________________________________\n",
            "batch_normalization_9 (BatchNor (None, 22, 22, 192)  768         separable_conv2d_9[0][0]         \n",
            "__________________________________________________________________________________________________\n",
            "concatenate (Concatenate)       (None, 22, 22, 480)  0           max_pooling2d_2[0][0]            \n",
            "                                                                 batch_normalization_6[0][0]      \n",
            "                                                                 batch_normalization_9[0][0]      \n",
            "__________________________________________________________________________________________________\n",
            "separable_conv2d_12 (SeparableC (None, 22, 22, 384)  185184      concatenate[0][0]                \n",
            "__________________________________________________________________________________________________\n",
            "batch_normalization_12 (BatchNo (None, 22, 22, 384)  1536        separable_conv2d_12[0][0]        \n",
            "__________________________________________________________________________________________________\n",
            "separable_conv2d_10 (SeparableC (None, 22, 22, 384)  185184      concatenate[0][0]                \n",
            "__________________________________________________________________________________________________\n",
            "separable_conv2d_13 (SeparableC (None, 22, 22, 192)  77376       batch_normalization_12[0][0]     \n",
            "__________________________________________________________________________________________________\n",
            "batch_normalization_10 (BatchNo (None, 22, 22, 384)  1536        separable_conv2d_10[0][0]        \n",
            "__________________________________________________________________________________________________\n",
            "batch_normalization_13 (BatchNo (None, 22, 22, 192)  768         separable_conv2d_13[0][0]        \n",
            "__________________________________________________________________________________________________\n",
            "separable_conv2d_11 (SeparableC (None, 11, 11, 192)  77376       batch_normalization_10[0][0]     \n",
            "__________________________________________________________________________________________________\n",
            "separable_conv2d_14 (SeparableC (None, 11, 11, 192)  38784       batch_normalization_13[0][0]     \n",
            "__________________________________________________________________________________________________\n",
            "max_pooling2d_3 (MaxPooling2D)  (None, 11, 11, 480)  0           concatenate[0][0]                \n",
            "__________________________________________________________________________________________________\n",
            "batch_normalization_11 (BatchNo (None, 11, 11, 192)  768         separable_conv2d_11[0][0]        \n",
            "__________________________________________________________________________________________________\n",
            "batch_normalization_14 (BatchNo (None, 11, 11, 192)  768         separable_conv2d_14[0][0]        \n",
            "__________________________________________________________________________________________________\n",
            "concatenate_1 (Concatenate)     (None, 11, 11, 864)  0           max_pooling2d_3[0][0]            \n",
            "                                                                 batch_normalization_11[0][0]     \n",
            "                                                                 batch_normalization_14[0][0]     \n",
            "__________________________________________________________________________________________________\n",
            "global_average_pooling2d (Globa (None, 864)          0           concatenate_1[0][0]              \n",
            "__________________________________________________________________________________________________\n",
            "dense (Dense)                   (None, 104)          89960       global_average_pooling2d[0][0]   \n",
            "==================================================================================================\n",
            "Total params: 766,793\n",
            "Trainable params: 762,197\n",
            "Non-trainable params: 4,596\n",
            "__________________________________________________________________________________________________\n"
          ],
          "name": "stdout"
        }
      ]
    },
    {
      "cell_type": "markdown",
      "metadata": {
        "id": "hy2Rhc4N8IgK",
        "colab_type": "text"
      },
      "source": [
        "## Squeezenet"
      ]
    },
    {
      "cell_type": "code",
      "metadata": {
        "id": "s6hW9rd-8HMB",
        "colab_type": "code",
        "colab": {
          "base_uri": "https://localhost:8080/",
          "height": 1000
        },
        "outputId": "518cc049-bf57-4e36-a23c-125b8ab10c4b"
      },
      "source": [
        "def fire_module(x, num_squeeze_filters, num_expand_filters, bnmoment=0.9):\n",
        "  \"\"\"\" Creates a squeezenet style block. Args: num_squeeze_filters should be about half of num_expand_filters\"\"\"\n",
        "\n",
        "  squeeze = Conv2D(num_squeeze_filters, kernel_size=(1,1), activation='relu', padding='same')(x)\n",
        "  squeeze = BatchNormalization(momentum=bnmoment)(squeeze)\n",
        "  expand3 = Conv2D(num_expand_filters, kernel_size=(3,3), activation='relu', padding='same')(squeeze)\n",
        "  expand3 = BatchNormalization(momentum=bnmoment)(expand3)\n",
        "  expand1 = Conv2D(num_expand_filters, kernel_size=(1,1), activation='relu', padding='same')(squeeze)\n",
        "  expand1 = BatchNormalization(momentum=bnmoment)(expand1)\n",
        "  return concatenate([expand3, expand1])\n",
        "\n",
        "def fire(num_squeeze_filters, num_expand_filters, bnmoment=0.9):\n",
        "  \"\"\"\" Creates a squeezenet style layer (functional style). Args: num_squeeze_filters should be about half of num_expand_filters\"\"\"\n",
        "\n",
        "  return lambda x: fire_module(x, num_squeeze_filters, num_expand_filters, bnmoment)\n",
        "\n",
        "## define architecture ##\n",
        "x = Input(shape=[*IMAGE_SIZE,3])\n",
        "c1 = Conv2D(10, kernel_size=(3,3), activation='relu', padding='valid')(x)\n",
        "c1 = BatchNormalization(momentum=0.9)(c1)\n",
        "c2 = Conv2D(20, kernel_size=(3,3), activation='relu', padding='valid')(c1)\n",
        "c2 = BatchNormalization(momentum=0.9)(c2)\n",
        "mp1 = MaxPooling2D(pool_size=(2,2))(c2)\n",
        "\n",
        "# add fire blocks\n",
        "fire1 = fire(20,40)(mp1)\n",
        "fire2 = fire(40,80)(fire1)\n",
        "fire3 = fire(80,160)(fire2)\n",
        "mp2 = MaxPooling2D(pool_size=(2,2))(fire3)\n",
        "fire4 = fire(160,320)(mp2)\n",
        "fire5 = fire(320,640)(fire4)\n",
        "\n",
        "ga = GlobalAveragePooling2D()(fire5)\n",
        "dense_out = Dense(len(CLASSES), activation='softmax')(ga)\n",
        "\n",
        "model = Model(x, dense_out)\n",
        "model.compile(loss='sparse_categorical_crossentropy', metrics=['sparse_categorical_accuracy'], optimizer='adam')\n",
        "model.summary()"
      ],
      "execution_count": 23,
      "outputs": [
        {
          "output_type": "stream",
          "text": [
            "Model: \"model_1\"\n",
            "__________________________________________________________________________________________________\n",
            "Layer (type)                    Output Shape         Param #     Connected to                     \n",
            "==================================================================================================\n",
            "input_3 (InputLayer)            [(None, 192, 192, 3) 0                                            \n",
            "__________________________________________________________________________________________________\n",
            "conv2d_1 (Conv2D)               (None, 190, 190, 10) 280         input_3[0][0]                    \n",
            "__________________________________________________________________________________________________\n",
            "batch_normalization_20 (BatchNo (None, 190, 190, 10) 40          conv2d_1[0][0]                   \n",
            "__________________________________________________________________________________________________\n",
            "conv2d_2 (Conv2D)               (None, 188, 188, 20) 1820        batch_normalization_20[0][0]     \n",
            "__________________________________________________________________________________________________\n",
            "batch_normalization_21 (BatchNo (None, 188, 188, 20) 80          conv2d_2[0][0]                   \n",
            "__________________________________________________________________________________________________\n",
            "max_pooling2d_5 (MaxPooling2D)  (None, 94, 94, 20)   0           batch_normalization_21[0][0]     \n",
            "__________________________________________________________________________________________________\n",
            "conv2d_3 (Conv2D)               (None, 94, 94, 20)   420         max_pooling2d_5[0][0]            \n",
            "__________________________________________________________________________________________________\n",
            "batch_normalization_22 (BatchNo (None, 94, 94, 20)   80          conv2d_3[0][0]                   \n",
            "__________________________________________________________________________________________________\n",
            "conv2d_4 (Conv2D)               (None, 94, 94, 40)   7240        batch_normalization_22[0][0]     \n",
            "__________________________________________________________________________________________________\n",
            "conv2d_5 (Conv2D)               (None, 94, 94, 40)   840         batch_normalization_22[0][0]     \n",
            "__________________________________________________________________________________________________\n",
            "batch_normalization_23 (BatchNo (None, 94, 94, 40)   160         conv2d_4[0][0]                   \n",
            "__________________________________________________________________________________________________\n",
            "batch_normalization_24 (BatchNo (None, 94, 94, 40)   160         conv2d_5[0][0]                   \n",
            "__________________________________________________________________________________________________\n",
            "concatenate_3 (Concatenate)     (None, 94, 94, 80)   0           batch_normalization_23[0][0]     \n",
            "                                                                 batch_normalization_24[0][0]     \n",
            "__________________________________________________________________________________________________\n",
            "conv2d_6 (Conv2D)               (None, 94, 94, 40)   3240        concatenate_3[0][0]              \n",
            "__________________________________________________________________________________________________\n",
            "batch_normalization_25 (BatchNo (None, 94, 94, 40)   160         conv2d_6[0][0]                   \n",
            "__________________________________________________________________________________________________\n",
            "conv2d_7 (Conv2D)               (None, 94, 94, 80)   28880       batch_normalization_25[0][0]     \n",
            "__________________________________________________________________________________________________\n",
            "conv2d_8 (Conv2D)               (None, 94, 94, 80)   3280        batch_normalization_25[0][0]     \n",
            "__________________________________________________________________________________________________\n",
            "batch_normalization_26 (BatchNo (None, 94, 94, 80)   320         conv2d_7[0][0]                   \n",
            "__________________________________________________________________________________________________\n",
            "batch_normalization_27 (BatchNo (None, 94, 94, 80)   320         conv2d_8[0][0]                   \n",
            "__________________________________________________________________________________________________\n",
            "concatenate_4 (Concatenate)     (None, 94, 94, 160)  0           batch_normalization_26[0][0]     \n",
            "                                                                 batch_normalization_27[0][0]     \n",
            "__________________________________________________________________________________________________\n",
            "conv2d_9 (Conv2D)               (None, 94, 94, 80)   12880       concatenate_4[0][0]              \n",
            "__________________________________________________________________________________________________\n",
            "batch_normalization_28 (BatchNo (None, 94, 94, 80)   320         conv2d_9[0][0]                   \n",
            "__________________________________________________________________________________________________\n",
            "conv2d_10 (Conv2D)              (None, 94, 94, 160)  115360      batch_normalization_28[0][0]     \n",
            "__________________________________________________________________________________________________\n",
            "conv2d_11 (Conv2D)              (None, 94, 94, 160)  12960       batch_normalization_28[0][0]     \n",
            "__________________________________________________________________________________________________\n",
            "batch_normalization_29 (BatchNo (None, 94, 94, 160)  640         conv2d_10[0][0]                  \n",
            "__________________________________________________________________________________________________\n",
            "batch_normalization_30 (BatchNo (None, 94, 94, 160)  640         conv2d_11[0][0]                  \n",
            "__________________________________________________________________________________________________\n",
            "concatenate_5 (Concatenate)     (None, 94, 94, 320)  0           batch_normalization_29[0][0]     \n",
            "                                                                 batch_normalization_30[0][0]     \n",
            "__________________________________________________________________________________________________\n",
            "max_pooling2d_6 (MaxPooling2D)  (None, 47, 47, 320)  0           concatenate_5[0][0]              \n",
            "__________________________________________________________________________________________________\n",
            "conv2d_12 (Conv2D)              (None, 47, 47, 160)  51360       max_pooling2d_6[0][0]            \n",
            "__________________________________________________________________________________________________\n",
            "batch_normalization_31 (BatchNo (None, 47, 47, 160)  640         conv2d_12[0][0]                  \n",
            "__________________________________________________________________________________________________\n",
            "conv2d_13 (Conv2D)              (None, 47, 47, 320)  461120      batch_normalization_31[0][0]     \n",
            "__________________________________________________________________________________________________\n",
            "conv2d_14 (Conv2D)              (None, 47, 47, 320)  51520       batch_normalization_31[0][0]     \n",
            "__________________________________________________________________________________________________\n",
            "batch_normalization_32 (BatchNo (None, 47, 47, 320)  1280        conv2d_13[0][0]                  \n",
            "__________________________________________________________________________________________________\n",
            "batch_normalization_33 (BatchNo (None, 47, 47, 320)  1280        conv2d_14[0][0]                  \n",
            "__________________________________________________________________________________________________\n",
            "concatenate_6 (Concatenate)     (None, 47, 47, 640)  0           batch_normalization_32[0][0]     \n",
            "                                                                 batch_normalization_33[0][0]     \n",
            "__________________________________________________________________________________________________\n",
            "conv2d_15 (Conv2D)              (None, 47, 47, 320)  205120      concatenate_6[0][0]              \n",
            "__________________________________________________________________________________________________\n",
            "batch_normalization_34 (BatchNo (None, 47, 47, 320)  1280        conv2d_15[0][0]                  \n",
            "__________________________________________________________________________________________________\n",
            "conv2d_16 (Conv2D)              (None, 47, 47, 640)  1843840     batch_normalization_34[0][0]     \n",
            "__________________________________________________________________________________________________\n",
            "conv2d_17 (Conv2D)              (None, 47, 47, 640)  205440      batch_normalization_34[0][0]     \n",
            "__________________________________________________________________________________________________\n",
            "batch_normalization_35 (BatchNo (None, 47, 47, 640)  2560        conv2d_16[0][0]                  \n",
            "__________________________________________________________________________________________________\n",
            "batch_normalization_36 (BatchNo (None, 47, 47, 640)  2560        conv2d_17[0][0]                  \n",
            "__________________________________________________________________________________________________\n",
            "concatenate_7 (Concatenate)     (None, 47, 47, 1280) 0           batch_normalization_35[0][0]     \n",
            "                                                                 batch_normalization_36[0][0]     \n",
            "__________________________________________________________________________________________________\n",
            "global_average_pooling2d_1 (Glo (None, 1280)         0           concatenate_7[0][0]              \n",
            "__________________________________________________________________________________________________\n",
            "dense_1 (Dense)                 (None, 104)          133224      global_average_pooling2d_1[0][0] \n",
            "==================================================================================================\n",
            "Total params: 3,151,344\n",
            "Trainable params: 3,145,084\n",
            "Non-trainable params: 6,260\n",
            "__________________________________________________________________________________________________\n"
          ],
          "name": "stdout"
        }
      ]
    },
    {
      "cell_type": "markdown",
      "metadata": {
        "id": "8Vmo3yJn8X8n",
        "colab_type": "text"
      },
      "source": [
        "## Simple model"
      ]
    },
    {
      "cell_type": "code",
      "metadata": {
        "id": "5F8MrFdN8U8K",
        "colab_type": "code",
        "colab": {
          "base_uri": "https://localhost:8080/",
          "height": 953
        },
        "outputId": "3e447e76-958d-4ec0-84a2-5ace8c7b7e5c"
      },
      "source": [
        "def conv2d_module(x, num_filters, kernel_size, activation, padding='valid', bnmoment=0.9):\n",
        "  \"\"\" Conv2d module paired with batch normalization\"\"\"\n",
        "\n",
        "  conv = Conv2D(num_filters, kernel_size=kernel_size, activation=activation, padding=padding)(x)\n",
        "  bn = BatchNormalization(momentum=bnmoment)(conv)\n",
        "  return bn\n",
        "\n",
        "def conv2d(num_filters, kernel_size, activation, padding='valid', bnmoment=0.9):\n",
        "  \"\"\" Conv2d layer paired with batch normalization \"\"\"\n",
        "  return lambda x: conv2d_module(x, num_filters, kernel_size, activation, padding=padding, bnmoment=bnmoment)\n",
        "\n",
        "\n",
        "## define architecture ##\n",
        "x = Input(shape=[*IMAGE_SIZE, 3])\n",
        "mp = MaxPooling2D(pool_size=(2,2))(x)\n",
        "c1 = conv2d(16, (3,3), 'relu', bnmoment=0.9)(mp)\n",
        "c2 = conv2d(32, (3,3), 'relu', bnmoment=0.9)(c1)\n",
        "c3 = conv2d(64, (3,3), 'relu', bnmoment=0.9)(c2)\n",
        "mp1 = MaxPooling2D(pool_size=(2,2))(c3)\n",
        "c4 = conv2d(64, (3,3), 'relu', bnmoment=0.9)(mp1)\n",
        "c5 = conv2d(128, (3,3), 'relu', bnmoment=0.9)(c4)\n",
        "c6 = conv2d(256, (3,3), 'relu', bnmoment=0.9)(c5)\n",
        "mp2 = MaxPooling2D(pool_size=(2,2))(c6)\n",
        "\n",
        "flat = Flatten()(mp2)\n",
        "d1 = Dense(512, activation='relu')(flat)\n",
        "du1 = tf.keras.layers.Dropout(0.3)(d1)\n",
        "d2 = Dense(256, activation='relu')(du1)\n",
        "du2 = tf.keras.layers.Dropout(0.3)(d2)\n",
        "\n",
        "out = Dense(len(CLASSES), activation='softmax')(du2)\n",
        "\n",
        "model = Model(x, out)\n",
        "\n",
        "model.compile(loss='sparse_categorical_crossentropy', metrics=['sparse_categorical_accuracy'], optimizer='adam')\n",
        "model.summary()"
      ],
      "execution_count": 37,
      "outputs": [
        {
          "output_type": "stream",
          "text": [
            "Model: \"model_3\"\n",
            "_________________________________________________________________\n",
            "Layer (type)                 Output Shape              Param #   \n",
            "=================================================================\n",
            "input_8 (InputLayer)         [(None, 192, 192, 3)]     0         \n",
            "_________________________________________________________________\n",
            "max_pooling2d_11 (MaxPooling (None, 96, 96, 3)         0         \n",
            "_________________________________________________________________\n",
            "conv2d_31 (Conv2D)           (None, 94, 94, 16)        448       \n",
            "_________________________________________________________________\n",
            "batch_normalization_49 (Batc (None, 94, 94, 16)        64        \n",
            "_________________________________________________________________\n",
            "conv2d_32 (Conv2D)           (None, 92, 92, 32)        4640      \n",
            "_________________________________________________________________\n",
            "batch_normalization_50 (Batc (None, 92, 92, 32)        128       \n",
            "_________________________________________________________________\n",
            "conv2d_33 (Conv2D)           (None, 90, 90, 64)        18496     \n",
            "_________________________________________________________________\n",
            "batch_normalization_51 (Batc (None, 90, 90, 64)        256       \n",
            "_________________________________________________________________\n",
            "max_pooling2d_12 (MaxPooling (None, 45, 45, 64)        0         \n",
            "_________________________________________________________________\n",
            "conv2d_34 (Conv2D)           (None, 43, 43, 64)        36928     \n",
            "_________________________________________________________________\n",
            "batch_normalization_52 (Batc (None, 43, 43, 64)        256       \n",
            "_________________________________________________________________\n",
            "conv2d_35 (Conv2D)           (None, 41, 41, 128)       73856     \n",
            "_________________________________________________________________\n",
            "batch_normalization_53 (Batc (None, 41, 41, 128)       512       \n",
            "_________________________________________________________________\n",
            "conv2d_36 (Conv2D)           (None, 39, 39, 256)       295168    \n",
            "_________________________________________________________________\n",
            "batch_normalization_54 (Batc (None, 39, 39, 256)       1024      \n",
            "_________________________________________________________________\n",
            "max_pooling2d_13 (MaxPooling (None, 19, 19, 256)       0         \n",
            "_________________________________________________________________\n",
            "flatten_2 (Flatten)          (None, 92416)             0         \n",
            "_________________________________________________________________\n",
            "dense_8 (Dense)              (None, 512)               47317504  \n",
            "_________________________________________________________________\n",
            "dropout_4 (Dropout)          (None, 512)               0         \n",
            "_________________________________________________________________\n",
            "dense_9 (Dense)              (None, 256)               131328    \n",
            "_________________________________________________________________\n",
            "dropout_5 (Dropout)          (None, 256)               0         \n",
            "_________________________________________________________________\n",
            "dense_10 (Dense)             (None, 104)               26728     \n",
            "=================================================================\n",
            "Total params: 47,907,336\n",
            "Trainable params: 47,906,216\n",
            "Non-trainable params: 1,120\n",
            "_________________________________________________________________\n"
          ],
          "name": "stdout"
        }
      ]
    },
    {
      "cell_type": "code",
      "metadata": {
        "colab_type": "code",
        "outputId": "fc0ec0eb-cc81-47aa-c8ab-141ac243d101",
        "id": "wy7uXguK8UXW",
        "colab": {
          "base_uri": "https://localhost:8080/",
          "height": 1000
        }
      },
      "source": [
        "model.fit(training_dataset, epochs=40, steps_per_epoch=STEPS_PER_EPOCH, validation_data=validation_dataset)"
      ],
      "execution_count": 0,
      "outputs": [
        {
          "output_type": "stream",
          "text": [
            "Epoch 1/40\n",
            "99/99 [==============================] - 134s 1s/step - loss: 5.3997 - sparse_categorical_accuracy: 0.0414 - val_loss: 4.4613 - val_sparse_categorical_accuracy: 0.0663\n",
            "Epoch 2/40\n",
            "99/99 [==============================] - 133s 1s/step - loss: 4.4112 - sparse_categorical_accuracy: 0.0638 - val_loss: 4.1283 - val_sparse_categorical_accuracy: 0.1029\n",
            "Epoch 3/40\n",
            "99/99 [==============================] - 134s 1s/step - loss: 4.2266 - sparse_categorical_accuracy: 0.0829 - val_loss: 4.0850 - val_sparse_categorical_accuracy: 0.0959\n",
            "Epoch 4/40\n",
            "99/99 [==============================] - 132s 1s/step - loss: 4.1120 - sparse_categorical_accuracy: 0.0880 - val_loss: 3.9832 - val_sparse_categorical_accuracy: 0.1239\n",
            "Epoch 5/40\n",
            "99/99 [==============================] - 131s 1s/step - loss: 4.0559 - sparse_categorical_accuracy: 0.0955 - val_loss: 3.9435 - val_sparse_categorical_accuracy: 0.1121\n",
            "Epoch 6/40\n",
            "99/99 [==============================] - 133s 1s/step - loss: 3.9826 - sparse_categorical_accuracy: 0.1062 - val_loss: 3.8796 - val_sparse_categorical_accuracy: 0.1239\n",
            "Epoch 7/40\n",
            "99/99 [==============================] - 133s 1s/step - loss: 3.9057 - sparse_categorical_accuracy: 0.1195 - val_loss: 3.8038 - val_sparse_categorical_accuracy: 0.1406\n",
            "Epoch 8/40\n",
            "99/99 [==============================] - 132s 1s/step - loss: 3.8361 - sparse_categorical_accuracy: 0.1228 - val_loss: 3.7690 - val_sparse_categorical_accuracy: 0.1449\n",
            "Epoch 9/40\n",
            "99/99 [==============================] - 132s 1s/step - loss: 3.7914 - sparse_categorical_accuracy: 0.1270 - val_loss: 3.6527 - val_sparse_categorical_accuracy: 0.1557\n",
            "Epoch 10/40\n",
            "99/99 [==============================] - 132s 1s/step - loss: 3.7015 - sparse_categorical_accuracy: 0.1420 - val_loss: 3.7237 - val_sparse_categorical_accuracy: 0.1433\n",
            "Epoch 11/40\n",
            "99/99 [==============================] - 133s 1s/step - loss: 3.6249 - sparse_categorical_accuracy: 0.1553 - val_loss: 3.6636 - val_sparse_categorical_accuracy: 0.1568\n",
            "Epoch 12/40\n",
            "99/99 [==============================] - 131s 1s/step - loss: 3.5547 - sparse_categorical_accuracy: 0.1567 - val_loss: 3.5319 - val_sparse_categorical_accuracy: 0.1724\n",
            "Epoch 13/40\n",
            "99/99 [==============================] - 133s 1s/step - loss: 3.4773 - sparse_categorical_accuracy: 0.1760 - val_loss: 3.3084 - val_sparse_categorical_accuracy: 0.1948\n",
            "Epoch 14/40\n",
            "99/99 [==============================] - 134s 1s/step - loss: 3.3481 - sparse_categorical_accuracy: 0.1860 - val_loss: 3.2780 - val_sparse_categorical_accuracy: 0.1950\n",
            "Epoch 15/40\n",
            "99/99 [==============================] - 133s 1s/step - loss: 3.2525 - sparse_categorical_accuracy: 0.2086 - val_loss: 3.2174 - val_sparse_categorical_accuracy: 0.2031\n",
            "Epoch 16/40\n",
            "99/99 [==============================] - 134s 1s/step - loss: 3.1401 - sparse_categorical_accuracy: 0.2205 - val_loss: 3.1912 - val_sparse_categorical_accuracy: 0.2061\n",
            "Epoch 17/40\n",
            "99/99 [==============================] - 133s 1s/step - loss: 3.0349 - sparse_categorical_accuracy: 0.2348 - val_loss: 3.0909 - val_sparse_categorical_accuracy: 0.2155\n",
            "Epoch 18/40\n",
            "99/99 [==============================] - 133s 1s/step - loss: 2.9973 - sparse_categorical_accuracy: 0.2395 - val_loss: 3.1183 - val_sparse_categorical_accuracy: 0.2344\n",
            "Epoch 19/40\n",
            "99/99 [==============================] - 134s 1s/step - loss: 2.8996 - sparse_categorical_accuracy: 0.2616 - val_loss: 3.0603 - val_sparse_categorical_accuracy: 0.2384\n",
            "Epoch 20/40\n",
            "99/99 [==============================] - 133s 1s/step - loss: 2.8054 - sparse_categorical_accuracy: 0.2796 - val_loss: 3.0965 - val_sparse_categorical_accuracy: 0.2357\n",
            "Epoch 21/40\n",
            "99/99 [==============================] - 133s 1s/step - loss: 2.7208 - sparse_categorical_accuracy: 0.2939 - val_loss: 2.9945 - val_sparse_categorical_accuracy: 0.2470\n",
            "Epoch 22/40\n",
            "99/99 [==============================] - 133s 1s/step - loss: 2.6369 - sparse_categorical_accuracy: 0.3120 - val_loss: 3.0075 - val_sparse_categorical_accuracy: 0.2344\n",
            "Epoch 23/40\n",
            "99/99 [==============================] - 132s 1s/step - loss: 2.5545 - sparse_categorical_accuracy: 0.3298 - val_loss: 3.0079 - val_sparse_categorical_accuracy: 0.2452\n",
            "Epoch 24/40\n",
            "99/99 [==============================] - 132s 1s/step - loss: 2.4499 - sparse_categorical_accuracy: 0.3564 - val_loss: 3.0277 - val_sparse_categorical_accuracy: 0.2691\n",
            "Epoch 25/40\n",
            "99/99 [==============================] - 132s 1s/step - loss: 2.3633 - sparse_categorical_accuracy: 0.3700 - val_loss: 3.1959 - val_sparse_categorical_accuracy: 0.2532\n",
            "Epoch 26/40\n",
            "99/99 [==============================] - 133s 1s/step - loss: 2.2829 - sparse_categorical_accuracy: 0.3960 - val_loss: 3.0250 - val_sparse_categorical_accuracy: 0.2689\n",
            "Epoch 27/40\n",
            "37/99 [==========>...................] - ETA: 1:20 - loss: 2.2242 - sparse_categorical_accuracy: 0.4114"
          ],
          "name": "stdout"
        }
      ]
    },
    {
      "cell_type": "markdown",
      "metadata": {
        "id": "lgaHQCWOuWWw",
        "colab_type": "text"
      },
      "source": [
        "# Apply object detection"
      ]
    },
    {
      "cell_type": "code",
      "metadata": {
        "id": "wLL7TKnjQDp_",
        "colab_type": "code",
        "colab": {}
      },
      "source": [
        "!git clone https://github.com/endernewton/tf-faster-rcnn.git"
      ],
      "execution_count": 0,
      "outputs": []
    },
    {
      "cell_type": "markdown",
      "metadata": {
        "id": "7xoqaHXC45rl",
        "colab_type": "text"
      },
      "source": [
        "# Key takeaways:\n",
        "* always use tf.keras and not keras!\n",
        "* for a transfer learning model, its really importent to set whether the model is trainable by \"pretrained_model.trainable = True/False\" and not by \"model.layer.trainable = True/False\". not sure why..\n",
        "* transfer learning is really sensitive to changes in anything..\n",
        "* for a transfer learning model training you should do one of the two:\n",
        "  - warmap top layers for some epochs\n",
        "  - use a step curve learning rate\n",
        "  - dont use both!\n",
        "* pay attention to the metric.. sparse_caterogical_accuracy is very different from accuracy. also the loss..\n",
        "* class weighting actually didn't let all-trainable model train!!\n",
        "* dataset.repeat() must come after dataset.batch()\n",
        "* image size between 512x512 and 331x331 didnt have any differance\n",
        "* keras callbacks are good and easy to use\n",
        "  - for ModelCheckpoint you should mount google drive\n",
        "* there isnt much difference in accuracy on top notch transfer learning models\n",
        "* custom cnn architecture\n",
        " -  complicated architecures (with filter depth concat) takes relativly long time to train. seperable convolution has a big advantage in training time\n",
        " - you should reduce the dimensionality of the input before feeding it to complicated modules\n",
        " - you should use 'same' padding on conv and maxpool layers when matching dimensions are needed (usually within a block before a depth concat)\n",
        " - complicated models require aaalot of data.... da\n",
        " - batch normalization is time consuming\n",
        " - global avarage pooling is as effective as a dense last layer for a very deep network\n",
        "  - its really hard getting good accuracy with trained from scratch models on a 17000 image dataset.."
      ]
    }
  ]
}